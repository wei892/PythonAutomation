{
 "cells": [
  {
   "cell_type": "markdown",
   "metadata": {},
   "source": [
    "**Chapter 4 - LISTS**\n",
    "\n",
    "\n",
    "- a value that contains multiple values in an ordered sequence\n",
    "slicing: [start ind: end indx should be that indx + 1]\n",
    "- you can contatenate lists using addition or multiplication\n",
    "    catNames = catNames + [name]  # list concatenation\n",
    "- del statement could delete values at an index\n",
    "    del spam[2]\n",
    "\n",
    "Tuple unpacking\n",
    "-a shortcut that letsyou assign multiple variables with the values in a list in one line of code\n",
    "    you could type this line of code:\n",
    ">cat = ['fat', 'gray', 'loud']  \n",
    ">size, color, disposition = cat\n",
    "- length of list and number of variables must be the same  \n",
    "\n",
    "- enumerate(listName) is useful if u need both the item and the item's index number \n",
    "    > for index, item in enumerate(supplies):  \n",
    "        ...  \n",
    "        print('Index ' + str(index) + ' in supplies is: ' + item)  \n",
    "\n",
    "- random.choice() and random.shuffle() can be used with lists  \n",
    "    random.choice(pets)  \n",
    "\n",
    "list methods:\n",
    "- index, returns the index number  \n",
    "    >spam.index('hello')  \n",
    "- append, adds it to the back of the list  \n",
    "    >spam.append('moose')  \n",
    "- insert, adds the value to the index specified  \n",
    "    >spam.insert(1, 'chicken')  \n",
    "- remove, removes the first value from the list  \n",
    "    >spam.remove('bat')  \n",
    "- sort , You can also pass True for the reverse keyword argument to have sort() sort thevalues in reverse order  \n",
    "    >spam.sort()  \n",
    "    >spam.sort(reverse=True)  \n",
    "- reverse()  \n",
    "\n",
    "- lists are mutable data types  \n",
    "- strings are not mutable data types  \n",
    "    - need to slice and concatentate the build a new string by copying the old string  \n",
    "\n",
    "TUPLES\n",
    "- typed with parenthesis, not brackets  \n",
    "    example: ('hello', 42, 0.5)\n",
    "- cannot have their values modified, appended, or removed\n",
    "- a tuple with only one value should have a trailing comma or else it'll assume its a typed value in a parenthesis \n"
   ]
  }
 ],
 "metadata": {
  "language_info": {
   "name": "python"
  }
 },
 "nbformat": 4,
 "nbformat_minor": 2
}
