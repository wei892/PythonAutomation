{
 "cells": [
  {
   "cell_type": "markdown",
   "metadata": {},
   "source": [
    "**Chapter 4 - LISTS**\n",
    "\n",
    "\n",
    "- a value that contains multiple values in an ordered sequence\n",
    "slicing: [start ind: end indx should be that indx + 1]\n",
    "- you can contatenate lists using addition or multiplication\n",
    "    catNames = catNames + [name]  # list concatenation\n",
    "- del statement could delete values at an index\n",
    "    del spam[2]\n",
    "\n",
    "Tuple unpacking\n",
    "-a shortcut that letsyou assign multiple variables with the values in a list in one line of code\n",
    "    you could type this line of code:\n",
    ">cat = ['fat', 'gray', 'loud']  \n",
    ">size, color, disposition = cat\n",
    "- length of list and number of variables must be the same  \n",
    "\n",
    "- enumerate(listName) is useful if u need both the item and the item's index number \n",
    "    > for index, item in enumerate(supplies):  \n",
    "        ...  \n",
    "        print('Index ' + str(index) + ' in supplies is: ' + item)  \n",
    "\n",
    "- random.choice() and random.shuffle() can be used with lists  \n",
    "    random.choice(pets)  \n",
    "\n",
    "list methods:\n",
    "- index, returns the index number  \n",
    "    >spam.index('hello')  \n",
    "- append, adds it to the back of the list  \n",
    "    >spam.append('moose')  \n",
    "- insert, adds the value to the index specified  \n",
    "    >spam.insert(1, 'chicken')  \n",
    "- remove, removes the first value from the list  \n",
    "    >spam.remove('bat')  \n",
    "- sort , You can also pass True for the reverse keyword argument to have sort() sort thevalues in reverse order  \n",
    "    >spam.sort()  \n",
    "    >spam.sort(reverse=True)  \n",
    "- reverse()\n",
    "- copy()\n",
    "    - make sure to import copy"
   ]
  },
  {
   "cell_type": "code",
   "execution_count": 11,
   "metadata": {},
   "outputs": [
    {
     "name": "stdout",
     "output_type": "stream",
     "text": [
      "4401937728\n",
      "4401839488\n"
     ]
    }
   ],
   "source": [
    "#demo of how copy is used\n",
    "\n",
    "import copy\n",
    "spam = ['A', 'B', 'C', 'D']\n",
    "print(id(spam))\n",
    "\n",
    "cheese = copy.copy(spam)\n",
    "#copies the spam list instead of referencing the spam list\n",
    "print(id(cheese))"
   ]
  },
  {
   "cell_type": "markdown",
   "metadata": {},
   "source": [
    "- deepcopy is used if there are lists within a list"
   ]
  },
  {
   "cell_type": "markdown",
   "metadata": {},
   "source": [
    "\n",
    "\n",
    "- lists are mutable data types  \n",
    "- strings are not mutable data types  \n",
    "    - need to slice and concatentate the build a new string by copying the old string  \n",
    "\n",
    "TUPLES\n",
    "- typed with parenthesis, not brackets  \n",
    "    example: ('hello', 42, 0.5)\n",
    "- cannot have their values modified, appended, or removed\n",
    "- a tuple with only one value should have a trailing comma or else it'll assume its a typed value in a parenthesis \n",
    "- you can convert the values passed in, into typles\n",
    "> tuple(('cat', 'dog', 5))\n",
    "    turns this into a tuple\n",
    "> list(('cat','dog', 5))\n",
    "    turns this into a list\n",
    "> list('hello')\n",
    "    gives you: ['h', 'e', 'l', 'l', 'o'] ( a list of the letters seperated)\n",
    "\n",
    "REFERENCES\n",
    "- values in function parameters are passed as a copy\n",
    "    - but for lists, they pass the references\n"
   ]
  },
  {
   "cell_type": "markdown",
   "metadata": {},
   "source": [
    "*Practice Questions* \n",
    "\n",
    "1. How would you assign the value 'hello' as the third value in a list stored in avariable named spam? (Assume spam contains [2, 4, 6, 8, 10].)"
   ]
  },
  {
   "cell_type": "code",
   "execution_count": 12,
   "metadata": {},
   "outputs": [
    {
     "name": "stdout",
     "output_type": "stream",
     "text": [
      "[2, 4, 'hello', 8, 10]\n"
     ]
    }
   ],
   "source": [
    "spam = [2,4,6,8,10]\n",
    "spam[2] = \"hello\"\n",
    "print(spam)"
   ]
  },
  {
   "cell_type": "markdown",
   "metadata": {},
   "source": [
    "**Comma Code**  \n",
    "Say you have a list value like this:  \n",
    "\n",
    "spam = ['apples', 'bananas', 'tofu', 'cats']  \n",
    "\n",
    "Write a function that takes a list value as an argument and returns a string with all theitems separated by a comma and a space, with and inserted before the last item. Forexample, passing the previous spam list to the function would return 'apples,  bananas,tofu, and cats'. But your function should be able to work with any list value passed to it.Be sure to test the case where an empty list [] is passed to your function."
   ]
  },
  {
   "cell_type": "code",
   "execution_count": 21,
   "metadata": {},
   "outputs": [
    {
     "name": "stdout",
     "output_type": "stream",
     "text": [
      "hello\n",
      "apples, bananas, tofu, and cats \n"
     ]
    }
   ],
   "source": [
    "def commaCode(listVals):\n",
    "  if len(listVals) <= 1:\n",
    "    return(''.join(listVals))\n",
    "\n",
    "  lenList = len(listVals)\n",
    "  result = \"\"\n",
    "  for x in range(lenList):\n",
    "    result += listVals[x]\n",
    "    if (lenList > 2 and x != lenList-1):\n",
    "      result += \",\"\n",
    "    result += \" \"\n",
    "    if x == lenList - 2:\n",
    "      result += \"and \"\n",
    "\n",
    "  return result\n",
    "\n",
    "    \n",
    "\n",
    "spam = [\"hello\"]\n",
    "print(commaCode(spam))\n",
    "\n",
    "spam2 = ['apples', 'bananas', 'tofu', 'cats']  \n",
    "print(commaCode(spam2))\n"
   ]
  },
  {
   "cell_type": "markdown",
   "metadata": {},
   "source": [
    "*Coin Flip Streaks*  \n",
    "For this exercise, we’ll try doing an experiment. If you flip a coin 100 times and writedown an “H” for each heads and “T” for each tails, you’ll create a list that looks like “TT T T H H H H T T.” If you ask a human to make up 100 random coin flips, you’llprobably end up with alternating head-tail results like “H T H T H H T H T T,” whichlooks random (to humans), but isn’t mathematically random. A human will almost neverwrite down a streak of six heads or six tails in a row, even though it is highly likely tohappen in truly random coin flips. Humans are predictably bad at being random.Write a program to find out how often a streak of six heads or a streak of six tailscomes up in a randomly generated list of heads and tails. Your program breaks up theexperiment into two parts: the first part generates a list of randomly selected 'heads' and\n",
    "'tails' values, and the second part checks if there is a streak in it. Put all of this code in a\n",
    "loop that repeats the experiment 10,000 times so we can find out what percentage of thecoin flips contains a streak of six heads or tails in a row. As a hint, the function call\n",
    "random.randint(0, 1) will return a 0 value 50% of the time and a 1 value the other 50% ofthe time."
   ]
  },
  {
   "cell_type": "code",
   "execution_count": null,
   "metadata": {},
   "outputs": [],
   "source": []
  }
 ],
 "metadata": {
  "kernelspec": {
   "display_name": "Python 3",
   "language": "python",
   "name": "python3"
  },
  "language_info": {
   "codemirror_mode": {
    "name": "ipython",
    "version": 3
   },
   "file_extension": ".py",
   "mimetype": "text/x-python",
   "name": "python",
   "nbconvert_exporter": "python",
   "pygments_lexer": "ipython3",
   "version": "3.11.9"
  }
 },
 "nbformat": 4,
 "nbformat_minor": 2
}
