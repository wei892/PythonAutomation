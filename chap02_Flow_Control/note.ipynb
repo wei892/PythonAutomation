{
 "cells": [
  {
   "cell_type": "markdown",
   "metadata": {},
   "source": [
    "*Chapter 2 - Flow control*\n",
    "\n",
    "- break       helps yu break out of a while loop\n",
    "- continue    moves to the next iteration\n",
    "- range       iterates from 0 to n-1  \n",
    "        - accepts three parameters  \n",
    "        - (start, end, step)   \n",
    "        - where step is how many steps and if negative, backwards  \n",
    "\n",
    "importing modules  \n",
    "import moduleType:  \n",
    "        - random:     random.randint()  \n",
    "        - sys:      sys.exit()  \n",
    "        - os:  \n",
    "        - math:  \n",
    "        - time:        time.sleep(float/int)  \n",
    "\n",
    "from ____ import moduleType  \n",
    "\n",
    "\n",
    "**the difference between them is that you still hvae to spell out the former   \n",
    "----example:----  \n",
    "former:     random.randint(num, num2)  \n",
    "latter:     randint(num, num2)  \n",
    "\n",
    "\n",
    "sys.exit()      Terminates a program  \n"
   ]
  }
 ],
 "metadata": {
  "language_info": {
   "name": "python"
  }
 },
 "nbformat": 4,
 "nbformat_minor": 2
}
