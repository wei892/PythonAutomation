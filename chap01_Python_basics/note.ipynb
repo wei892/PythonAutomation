{
 "cells": [
  {
   "cell_type": "markdown",
   "metadata": {},
   "source": [
    "*Chapter .1 - The Basics*\n",
    "\n",
    "- **      Exponet\n",
    "- %       Modular Division\n",
    "- //      Integer Division/Floored Quotient\n",
    "- /       Division\n",
    "- *       Multiplication\n",
    "- -       Subtraction\n",
    "- +       Addiction\n",
    "\n",
    "str()   Converts to string\n",
    "int()   Converts to int\n",
    "float() Converts to float\n",
    "\n",
    "**\n",
    "What is an expression made up of? What do all expressions do?5. This chapter introduced assignment statements, like spam = 10. What is the difference between an expression and a statement?\n",
    "\n"
   ]
  }
 ],
 "metadata": {
  "language_info": {
   "name": "python"
  }
 },
 "nbformat": 4,
 "nbformat_minor": 2
}
